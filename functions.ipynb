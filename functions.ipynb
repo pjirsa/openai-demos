{
 "cells": [
  {
   "cell_type": "code",
   "execution_count": 14,
   "metadata": {},
   "outputs": [
    {
     "name": "stdout",
     "output_type": "stream",
     "text": [
      "The dotenv extension is already loaded. To reload it, use:\n",
      "  %reload_ext dotenv\n"
     ]
    }
   ],
   "source": [
    "%load_ext dotenv\n",
    "%dotenv"
   ]
  },
  {
   "cell_type": "code",
   "execution_count": 24,
   "metadata": {},
   "outputs": [],
   "source": [
    "import os\n",
    "import openai\n",
    "import json\n",
    "\n",
    "DEPLOYMENT_ID = os.getenv(\"AZURE_OPENAI_DEPLOYMENT\")\n",
    "openai.api_key = os.getenv(\"AZURE_OPENAI_KEY\")\n",
    "openai.api_version = \"2023-07-01-preview\"\n",
    "openai.api_type = \"azure\"\n",
    "openai.api_base = os.getenv(\"AZURE_OPENAI_ENDPOINT\")"
   ]
  },
  {
   "cell_type": "code",
   "execution_count": 20,
   "metadata": {},
   "outputs": [
    {
     "name": "stdout",
     "output_type": "stream",
     "text": [
      "{\n",
      "  \"role\": \"assistant\",\n",
      "  \"function_call\": {\n",
      "    \"name\": \"search_hotels\",\n",
      "    \"arguments\": \"{\\n  \\\"location\\\": \\\"San Diego\\\",\\n  \\\"max_price\\\": 300,\\n  \\\"features\\\": \\\"beachfront,free breakfast\\\"\\n}\"\n",
      "  }\n",
      "}\n"
     ]
    }
   ],
   "source": [
    "\n",
    "messages= [\n",
    "    {\"role\": \"user\", \"content\": \"Find beachfront hotels in San Diego for less than $300 a month with free breakfast.\"}\n",
    "]\n",
    "\n",
    "functions= [  \n",
    "    {\n",
    "        \"name\": \"search_hotels\",\n",
    "        \"description\": \"Retrieves hotels from the search index based on the parameters provided\",\n",
    "        \"parameters\": {\n",
    "            \"type\": \"object\",\n",
    "            \"properties\": {\n",
    "                \"location\": {\n",
    "                    \"type\": \"string\",\n",
    "                    \"description\": \"The location of the hotel (i.e. Seattle, WA)\"\n",
    "                },\n",
    "                \"max_price\": {\n",
    "                    \"type\": \"number\",\n",
    "                    \"description\": \"The maximum price for the hotel\"\n",
    "                },\n",
    "                \"features\": {\n",
    "                    \"type\": \"string\",\n",
    "                    \"description\": \"A comma separated list of features (i.e. beachfront, free wifi, etc.)\"\n",
    "                }\n",
    "            },\n",
    "            \"required\": [\"location\"],\n",
    "        },\n",
    "    }\n",
    "]  \n",
    "\n",
    "response = openai.ChatCompletion.create(\n",
    "    engine=DEPLOYMENT_ID,\n",
    "    messages=messages,\n",
    "    functions=functions,\n",
    "    function_call=\"auto\", \n",
    ")\n",
    "\n",
    "print(response['choices'][0]['message'])"
   ]
  }
 ],
 "metadata": {
  "kernelspec": {
   "display_name": "Python 3",
   "language": "python",
   "name": "python3"
  },
  "language_info": {
   "codemirror_mode": {
    "name": "ipython",
    "version": 3
   },
   "file_extension": ".py",
   "mimetype": "text/x-python",
   "name": "python",
   "nbconvert_exporter": "python",
   "pygments_lexer": "ipython3",
   "version": "3.11.4"
  },
  "orig_nbformat": 4
 },
 "nbformat": 4,
 "nbformat_minor": 2
}
